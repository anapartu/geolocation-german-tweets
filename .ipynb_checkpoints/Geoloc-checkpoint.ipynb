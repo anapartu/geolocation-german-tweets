{
 "cells": [
  {
   "cell_type": "code",
   "execution_count": 1,
   "metadata": {},
   "outputs": [],
   "source": [
    "import pandas as pd\n",
    "import numpy as np\n",
    "from sklearn.pipeline import Pipeline\n",
    "from sklearn.feature_extraction.text import CountVectorizer\n",
    "from sklearn.feature_extraction.text import TfidfTransformer\n",
    "from sklearn.linear_model import LinearRegression \n",
    "#0.598 HashingVectorizer(analyzer=\"word\",ngram_range=(1,2), n_features = 2**24, alternate_sign=False) \n",
    "#0.608 CountVectorizer(analyzer=\"word\",ngram_range=(1,2))\n",
    "from sklearn.preprocessing import StandardScaler\n",
    "from sklearn.svm import SVR \n",
    "from sklearn.svm import LinearSVR \n",
    "#0.591 CountVectorizer(analyzer=\"word\",ngram_range=(1,2)) \n",
    "#0.588 HashingVectorizer(analyzer=\"word\",ngram_range=(1,2), n_features = 2**28, alternate_sign=False) \n",
    "from sklearn.metrics import mean_absolute_error\n",
    "from sklearn.metrics import mean_squared_error\n",
    "from nltk.corpus import stopwords \n",
    "#0.614 & 0.592\n",
    "from sklearn.feature_extraction.text import HashingVectorizer\n",
    "# ,stop_words=stopwords.words('german')"
   ]
  },
  {
   "cell_type": "code",
   "execution_count": 2,
   "metadata": {},
   "outputs": [],
   "source": [
    "#read files\n",
    "dft = pd.read_csv('training.txt', index_col=0, sep=\",\",  names=['id', 'lat', 'long', 'tweet'])\n",
    "dfv = pd.read_csv('validation.txt', index_col=0, sep=\",\",  names=['id', 'lat', 'long', 'tweet'])\n",
    "dftest = pd.read_csv('test.txt', index_col=0, sep=\",\",  names=['id', 'tweet'])"
   ]
  },
  {
   "cell_type": "code",
   "execution_count": 3,
   "metadata": {},
   "outputs": [],
   "source": [
    "#split data\n",
    "X_train = np.array(dft['tweet'])\n",
    "Y_train = np.array(dft[['lat', 'long']])\n",
    "X_validation = np.array(dfv['tweet'])\n",
    "Y_validation = np.array(dfv[['lat', 'long']])\n",
    "X_test = np.array(dftest['tweet'])\n",
    "ids_test = dftest.index"
   ]
  },
  {
   "cell_type": "code",
   "execution_count": 4,
   "metadata": {},
   "outputs": [
    {
     "name": "stdout",
     "output_type": "stream",
     "text": [
      "validation mae 0.6086371037228335\n",
      "validation mse 0.6397906770734423\n"
     ]
    }
   ],
   "source": [
    "# #predicting both lat and long together\n",
    "# text_clf = Pipeline([('vect', CountVectorizer(analyzer=\"word\",ngram_range=(1,2))),\n",
    "#                      ('tfidf', TfidfTransformer(sublinear_tf=True,use_idf=False)),\n",
    "#                      ('clf', LinearRegression()),])\n",
    "# text_clf.fit(X_train, Y_train)\n",
    "\n",
    "# predicted = text_clf.predict(X_validation)\n",
    "\n",
    "# # print mae and mse\n",
    "# print('validation mae', mean_absolute_error(Y_validation, predicted))\n",
    "# print('validation mse', mean_squared_error(Y_validation, predicted))\n",
    "\n",
    "# #predict test lat and long\n",
    "# test_predictions = text_clf.predict(X_test)\n",
    "\n",
    "# #create submission file\n",
    "# f = open(\"submission1.txt\",\"w\")\n",
    "# f.write(\"id,lat,long\\n\")\n",
    "# for i in range(len(ids_test)):\n",
    "#     f.write(str(ids_test[i])+','+str(test_predictions[i][0])+','+str(test_predictions[i][1])+'\\n')\n",
    "# f.close()"
   ]
  },
  {
   "cell_type": "code",
   "execution_count": 5,
   "metadata": {},
   "outputs": [
    {
     "name": "stdout",
     "output_type": "stream",
     "text": [
      "validation mae 0.5888125258946532\n",
      "validation mse 0.6207736263634532\n"
     ]
    }
   ],
   "source": [
    "# predicting separately\n",
    "text_clf = Pipeline([('vect', HashingVectorizer(analyzer=\"word\",ngram_range=(1,2), n_features = 2**28, alternate_sign=False)),\n",
    "                     ('tfidf', TfidfTransformer(sublinear_tf=True,use_idf=False)),\n",
    "                     ('clf', LinearSVR()),])\n",
    "\n",
    "Y_train1= Y_train[:,0]\n",
    "Y_train2= Y_train[:,1]\n",
    "Y_val1=Y_validation[:,0]\n",
    "Y_val2=Y_validation[:,1]\n",
    "\n",
    "text_clf.fit(X_train, Y_train1)\n",
    "predicted1 = text_clf.predict(X_validation)\n",
    "#predict test lat\n",
    "test_predictions1 = text_clf.predict(X_test)\n",
    "text_clf.fit(X_train, Y_train2)\n",
    "predicted2 = text_clf.predict(X_validation)\n",
    "#predict test long\n",
    "test_predictions2 = text_clf.predict(X_test)\n",
    "\n",
    "aux = []\n",
    "for i in range(len(predicted1)):\n",
    "    aux.append([predicted1[i],predicted2[i]])\n",
    "    \n",
    "# print mae and mse\n",
    "print('validation mae', mean_absolute_error(Y_validation, aux))\n",
    "print('validation mse', mean_squared_error(Y_validation, aux))\n",
    "\n",
    "\n",
    "#create submission file\n",
    "f = open(\"submission2.txt\",\"w\")\n",
    "f.write(\"id,lat,long\\n\")\n",
    "for i in range(len(ids_test)):\n",
    "    f.write(str(ids_test[i])+','+str(test_predictions1[i])+','+str(test_predictions2[i])+'\\n')\n",
    "f.close()"
   ]
  },
  {
   "cell_type": "code",
   "execution_count": null,
   "metadata": {},
   "outputs": [],
   "source": []
  }
 ],
 "metadata": {
  "kernelspec": {
   "display_name": "Python 3",
   "language": "python",
   "name": "python3"
  },
  "language_info": {
   "codemirror_mode": {
    "name": "ipython",
    "version": 3
   },
   "file_extension": ".py",
   "mimetype": "text/x-python",
   "name": "python",
   "nbconvert_exporter": "python",
   "pygments_lexer": "ipython3",
   "version": "3.8.5"
  }
 },
 "nbformat": 4,
 "nbformat_minor": 4
}
